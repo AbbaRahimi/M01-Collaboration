{
 "cells": [
  {
   "cell_type": "code",
   "execution_count": 9,
   "id": "7cfaecb7-dcb1-4584-b227-020314d68d40",
   "metadata": {},
   "outputs": [
    {
     "name": "stdout",
     "output_type": "stream",
     "text": [
      "Testing The Code\n"
     ]
    }
   ],
   "source": [
    "#Testing The code\n",
    "def test_sum():\n",
    "    assert sum([4, 5, 6]) == 15, \"Should be 15\"\n",
    "\n",
    "if __name__ == \"__main__\":\n",
    "    test_sum()\n",
    "    print(\"Testing The Code\")"
   ]
  },
  {
   "cell_type": "code",
   "execution_count": null,
   "id": "2ff759ed-ca3c-46ed-98cb-1e2ad897caf4",
   "metadata": {},
   "outputs": [],
   "source": [
    "#Writing Your First Code\n",
    "import unittest\n",
    "\n",
    "def sum(numbers):\n",
    "    \"\"\"Return the sum of a list of numbers.\"\"\"\n",
    "    return sum(numbers)\n",
    "\n",
    "class TestSum(unittest.TestCase):\n",
    "    def test_list_int(self):\n",
    "        \"\"\"Test summing a list of integers\"\"\"\n",
    "        data = [1, 2, 3]\n",
    "        self.assertEqual(sum(data), 6)\n",
    "\n",
    "    def test_empty_list(self):\n",
    "        \"\"\"Test summing an empty list\"\"\"\n",
    "        data = []\n",
    "        self.assertEqual(sum(data), 0)\n",
    "\n",
    "    def test_single_value(self):\n",
    "        \"\"\"Test summing a single integer\"\"\"\n",
    "        data = [5]\n",
    "        self.assertEqual(sum(data), 5)\n",
    "\n",
    "    def test_negative_numbers(self):\n",
    "        \"\"\"Test summing a list of negative numbers\"\"\"\n",
    "        data = [-1, -2, -3]\n",
    "        self.assertEqual(sum(data), -6)\n",
    "\n",
    "    def test_floats(self):\n",
    "        \"\"\"Test summing a list of floats\"\"\"\n",
    "        data = [1.5, 2.5, 3.5]\n",
    "        self.assertAlmostEqual(sum(data), 7.5, places=5)\n",
    "\n",
    "if __name__ == '__main__':\n",
    "    unittest.main()"
   ]
  },
  {
   "cell_type": "code",
   "execution_count": null,
   "id": "dd1f0c64-a424-4130-83f9-55fa2e1b6aad",
   "metadata": {},
   "outputs": [],
   "source": [
    "#Testing the code is one of the important part of the coding, it means every programmer must know how to do it, \n",
    "typically refer to the output or return values from operations, functions, or print statements that involve textual data, such as strings or messages displayed in the console"
   ]
  }
 ],
 "metadata": {
  "kernelspec": {
   "display_name": "Python 3 (ipykernel)",
   "language": "python",
   "name": "python3"
  },
  "language_info": {
   "codemirror_mode": {
    "name": "ipython",
    "version": 3
   },
   "file_extension": ".py",
   "mimetype": "text/x-python",
   "name": "python",
   "nbconvert_exporter": "python",
   "pygments_lexer": "ipython3",
   "version": "3.11.7"
  }
 },
 "nbformat": 4,
 "nbformat_minor": 5
}
