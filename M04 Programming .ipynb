{
 "cells": [
  {
   "cell_type": "code",
   "execution_count": 12,
   "id": "728bcc4d-1fbd-4a7b-8d0f-5f040a53d2b3",
   "metadata": {},
   "outputs": [],
   "source": [
    "def hours():\n",
    "    print('Open 9-5 daily')\n"
   ]
  },
  {
   "cell_type": "code",
   "execution_count": null,
   "id": "be6ff5a1-5bd6-4882-a876-b128930e1f04",
   "metadata": {},
   "outputs": [],
   "source": [
    ">>> import zoo\n",
    ">>> zoo.hours()\n",
    "Open 9-5 daily\n"
   ]
  },
  {
   "cell_type": "code",
   "execution_count": null,
   "id": "fe75f265-996c-4c02-9600-e4ff99f714ec",
   "metadata": {},
   "outputs": [],
   "source": [
    ">>> import zoo as menagerie\n",
    ">>> menagerie.hours()\n",
    "Open 9-5 daily\n"
   ]
  },
  {
   "cell_type": "code",
   "execution_count": null,
   "id": "d95667b5-c660-4a72-9955-63380dcf971c",
   "metadata": {},
   "outputs": [],
   "source": [
    "engine = create_engine('sqlite:///books.db', echo=False)\n",
    "metadata = MetaData()\n",
    "metadata.reflect(bind=engine)\n",
    "books_table = metadata.tables['book']\n",
    "\n",
    "stmt = select([books_table.c.title]).order_by(books_table.c.title)\n",
    "\n",
    "with engine.connect() as connection:\n",
    "    result = connection.execute(stmt)\n",
    "    titles = [row.title for row in result]\n",
    "\n",
    "for title in titles:\n",
    "    print(title)\n"
   ]
  }
 ],
 "metadata": {
  "kernelspec": {
   "display_name": "Python 3 (ipykernel)",
   "language": "python",
   "name": "python3"
  },
  "language_info": {
   "codemirror_mode": {
    "name": "ipython",
    "version": 3
   },
   "file_extension": ".py",
   "mimetype": "text/x-python",
   "name": "python",
   "nbconvert_exporter": "python",
   "pygments_lexer": "ipython3",
   "version": "3.11.7"
  }
 },
 "nbformat": 4,
 "nbformat_minor": 5
}
