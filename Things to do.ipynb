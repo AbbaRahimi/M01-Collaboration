{
 "cells": [
  {
   "cell_type": "code",
   "execution_count": 4,
   "id": "5294be58-4230-475e-a1bf-7ab6ca4dd3d2",
   "metadata": {},
   "outputs": [
    {
     "name": "stdout",
     "output_type": "stream",
     "text": [
      "Seconds in an hour: 3600\n"
     ]
    }
   ],
   "source": [
    "seconds_in_minute = 60\n",
    "minutes_in_hour = 60\n",
    "seconds_per_hour = seconds_in_minute * minutes_in_hour\n",
    "print(\"Seconds in an hour:\", seconds_per_hour)\n"
   ]
  },
  {
   "cell_type": "code",
   "execution_count": 5,
   "id": "aa44249d-d1ac-4a80-a67a-303d85e90814",
   "metadata": {},
   "outputs": [
    {
     "name": "stdout",
     "output_type": "stream",
     "text": [
      "Seconds in a day: 86400\n"
     ]
    }
   ],
   "source": [
    "hours_in_day = 24\n",
    "seconds_per_day = seconds_per_hour * hours_in_day\n",
    "print(\"Seconds in a day:\", seconds_per_day)\n"
   ]
  },
  {
   "cell_type": "code",
   "execution_count": 6,
   "id": "a819ba19-5255-479a-9832-5939e0a1bbb1",
   "metadata": {},
   "outputs": [
    {
     "name": "stdout",
     "output_type": "stream",
     "text": [
      "Seconds per day divided by seconds per hour (floating-point division): 24.0\n"
     ]
    }
   ],
   "source": [
    "seconds_per_day_float = seconds_per_day / seconds_per_hour\n",
    "print(\"Seconds per day divided by seconds per hour (floating-point division):\", seconds_per_day_float)\n"
   ]
  },
  {
   "cell_type": "code",
   "execution_count": 7,
   "id": "cef86ff3-0462-4a61-a4a4-5d07792b9bb8",
   "metadata": {},
   "outputs": [
    {
     "name": "stdout",
     "output_type": "stream",
     "text": [
      "Seconds per day divided by seconds per hour (integer division): 24\n"
     ]
    }
   ],
   "source": [
    "seconds_per_day_integer = seconds_per_day // seconds_per_hour\n",
    "print(\"Seconds per day divided by seconds per hour (integer division):\", seconds_per_day_integer)\n"
   ]
  }
 ],
 "metadata": {
  "kernelspec": {
   "display_name": "Python 3 (ipykernel)",
   "language": "python",
   "name": "python3"
  },
  "language_info": {
   "codemirror_mode": {
    "name": "ipython",
    "version": 3
   },
   "file_extension": ".py",
   "mimetype": "text/x-python",
   "name": "python",
   "nbconvert_exporter": "python",
   "pygments_lexer": "ipython3",
   "version": "3.11.7"
  }
 },
 "nbformat": 4,
 "nbformat_minor": 5
}
